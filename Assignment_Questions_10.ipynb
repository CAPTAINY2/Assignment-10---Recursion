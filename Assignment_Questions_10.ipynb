{
  "nbformat": 4,
  "nbformat_minor": 0,
  "metadata": {
    "colab": {
      "provenance": [],
      "authorship_tag": "ABX9TyPJ11o9Gdnzxoa9a7SrnzCq",
      "include_colab_link": true
    },
    "kernelspec": {
      "name": "python3",
      "display_name": "Python 3"
    },
    "language_info": {
      "name": "python"
    }
  },
  "cells": [
    {
      "cell_type": "markdown",
      "metadata": {
        "id": "view-in-github",
        "colab_type": "text"
      },
      "source": [
        "<a href=\"https://colab.research.google.com/github/CAPTAINY2/Assignment-10---Recursion/blob/main/Assignment_Questions_10.ipynb\" target=\"_parent\"><img src=\"https://colab.research.google.com/assets/colab-badge.svg\" alt=\"Open In Colab\"/></a>"
      ]
    },
    {
      "cell_type": "markdown",
      "source": [
        "### QUESTION-1"
      ],
      "metadata": {
        "id": "HVFTPJaYSEOa"
      }
    },
    {
      "cell_type": "code",
      "execution_count": 4,
      "metadata": {
        "colab": {
          "base_uri": "https://localhost:8080/"
        },
        "id": "BR8H0KmC8FAp",
        "outputId": "634082f4-f1e9-4ee7-d788-77e2ee8cc224"
      },
      "outputs": [
        {
          "output_type": "stream",
          "name": "stdout",
          "text": [
            "Input: n=27\n",
            "Output 1: True\n",
            "Input: n=0\n",
            "Output 2: False\n",
            "Input: n=-1\n",
            "Output 3: False\n"
          ]
        }
      ],
      "source": [
        "import math\n",
        "\n",
        "def power(n):\n",
        "    if n <= 0:\n",
        "        return False\n",
        "\n",
        "    log = math.log(n, 3)\n",
        "    return log == int(log)\n",
        "\n",
        "print(f\"Input: n=27\")\n",
        "print(f\"Output 1: {power(27)}\")\n",
        "\n",
        "print(f\"Input: n=0\")\n",
        "print(f\"Output 2: {power(0)}\")\n",
        "\n",
        "print(f\"Input: n=-1\")\n",
        "print(f\"Output 3: {power(-1)}\")"
      ]
    },
    {
      "cell_type": "markdown",
      "source": [
        "### QUESTION-2"
      ],
      "metadata": {
        "id": "9TJ2UR09SITb"
      }
    },
    {
      "cell_type": "code",
      "source": [
        "def remaining(n):\n",
        "    start = 1\n",
        "    step = 1\n",
        "    direction = 1\n",
        "    remaining = n\n",
        "\n",
        "    while remaining > 1:\n",
        "        if direction == 1:\n",
        "            start = start + step\n",
        "        else:\n",
        "            start = start + step * (remaining % 2)\n",
        "\n",
        "        remaining = remaining // 2\n",
        "        direction *= -1\n",
        "        step *= 2\n",
        "\n",
        "    return start\n",
        "\n",
        "print(f\"Input: n=9\")\n",
        "print(f\"Output: {remaining(9)}\")\n",
        "\n",
        "print(f\"Input: n=1\")\n",
        "print(f\"Output: {remaining(1)}\")"
      ],
      "metadata": {
        "colab": {
          "base_uri": "https://localhost:8080/"
        },
        "id": "EwodOu-u8wvg",
        "outputId": "53032784-0049-4790-dd9b-52e054fcba80"
      },
      "execution_count": 9,
      "outputs": [
        {
          "output_type": "stream",
          "name": "stdout",
          "text": [
            "Input: n=9\n",
            "Output: 6\n",
            "Input: n=1\n",
            "Output: 1\n"
          ]
        }
      ]
    },
    {
      "cell_type": "markdown",
      "source": [
        "### QUESTION-3"
      ],
      "metadata": {
        "id": "bkOn1LEoSJ0b"
      }
    },
    {
      "cell_type": "code",
      "source": [
        "def Subsets(set_str, subset, index):\n",
        "    if index == len(set_str):\n",
        "        print(subset)\n",
        "        return\n",
        "#For include\n",
        "    Subsets(set_str, subset + set_str[index], index + 1)\n",
        "#For exclude\n",
        "    Subsets(set_str, subset, index + 1)\n",
        "\n",
        "\n",
        "def AllSubset(set_str):\n",
        "    Subsets(set_str, \"\", 0)\n",
        "\n",
        "print(f\"Input :  set = “abc”\")\n",
        "print(f\"Output: \")\n",
        "set_str = \"abc\"\n",
        "AllSubset(set_str)\n",
        "\n",
        "print(f\"Input :  set = “abcd”\")\n",
        "print(f\"Output: \")\n",
        "set_str = \"abcd\"\n",
        "AllSubset(set_str)\n"
      ],
      "metadata": {
        "colab": {
          "base_uri": "https://localhost:8080/"
        },
        "id": "gZJAMAPlC1f6",
        "outputId": "59e694ef-4924-447f-c40a-053b50dcd22e"
      },
      "execution_count": 20,
      "outputs": [
        {
          "output_type": "stream",
          "name": "stdout",
          "text": [
            "Input :  set = “abc”\n",
            "Output: \n",
            "abc\n",
            "ab\n",
            "ac\n",
            "a\n",
            "bc\n",
            "b\n",
            "c\n",
            "\n",
            "Input :  set = “abcd”\n",
            "Output: \n",
            "abcd\n",
            "abc\n",
            "abd\n",
            "ab\n",
            "acd\n",
            "ac\n",
            "ad\n",
            "a\n",
            "bcd\n",
            "bc\n",
            "bd\n",
            "b\n",
            "cd\n",
            "c\n",
            "d\n",
            "\n"
          ]
        }
      ]
    },
    {
      "cell_type": "markdown",
      "source": [
        "### QUESTION-4"
      ],
      "metadata": {
        "id": "Q_gOcupkSMiT"
      }
    },
    {
      "cell_type": "code",
      "source": [
        "def length(str):\n",
        "    if str == \"\":\n",
        "        return 0\n",
        "    else:\n",
        "        return 1 + length(str[1:])\n",
        "\n",
        "str1 = \"abcd\"\n",
        "l1 = length(str1)\n",
        "print(f\"Output: {l1}\")\n",
        "\n",
        "str2 = \"GEEKSFORGEEKS\"\n",
        "l2 = length(str2)\n",
        "print(f\"Output: {l2}\")\n"
      ],
      "metadata": {
        "colab": {
          "base_uri": "https://localhost:8080/"
        },
        "id": "_BoQWbiaEOIa",
        "outputId": "8b13bf55-86a2-452e-f316-318ef7078fa4"
      },
      "execution_count": 22,
      "outputs": [
        {
          "output_type": "stream",
          "name": "stdout",
          "text": [
            "Output: 4\n",
            "Output: 13\n"
          ]
        }
      ]
    },
    {
      "cell_type": "markdown",
      "source": [
        "### QUESTION-5"
      ],
      "metadata": {
        "id": "v17OPvptSOJp"
      }
    },
    {
      "cell_type": "code",
      "source": [
        "s1 = \"abcab\"\n",
        "s2 = \"aba\"\n",
        "\n",
        "def substring(s):\n",
        "    count = 0\n",
        "    n = len(s)\n",
        "\n",
        "    for i in range(n):\n",
        "        for j in range(i, n):\n",
        "            if s[i] == s[j]:\n",
        "                count += 1\n",
        "\n",
        "    return count\n",
        "\n",
        "print(f\"Output: {substring(s1)}\")\n",
        "\n",
        "print(f\"Output: {substring(s2)}\")\n"
      ],
      "metadata": {
        "colab": {
          "base_uri": "https://localhost:8080/"
        },
        "id": "n3ZIFekNIZo7",
        "outputId": "ca2d5e84-3e8f-4118-9806-c42d5c66635f"
      },
      "execution_count": 28,
      "outputs": [
        {
          "output_type": "stream",
          "name": "stdout",
          "text": [
            "Output: 7\n",
            "Output: 4\n"
          ]
        }
      ]
    },
    {
      "cell_type": "markdown",
      "source": [
        "### QUESTION-6"
      ],
      "metadata": {
        "id": "nhh98Rf8SPyo"
      }
    },
    {
      "cell_type": "code",
      "source": [
        "def Hanoi(N, S, D, A):\n",
        "    if N == 1:\n",
        "        print(f\"move disk 1 from rod {S} to rod {D}\")\n",
        "        return 1\n",
        "\n",
        "    moves = 0\n",
        "\n",
        "    moves += Hanoi(N - 1, S, A, D)\n",
        "    print(f\"move disk {N} from rod {S} to rod {D}\")\n",
        "    moves += 1\n",
        "    moves += Hanoi(N - 1, A, D, S)\n",
        "\n",
        "    return moves\n",
        "N = 2\n",
        "moves = Hanoi(N, 1, 3, 2)\n",
        "print(f\"Output: {moves}\")\n",
        "\n",
        "N = 3\n",
        "moves = Hanoi(N, 1, 3, 2)\n",
        "print(f\"Output : {moves}\")"
      ],
      "metadata": {
        "colab": {
          "base_uri": "https://localhost:8080/"
        },
        "id": "DxhxSEy6J1Fz",
        "outputId": "ff8b8a16-1b18-4c3b-c5ce-1e9e70bfcff1"
      },
      "execution_count": 29,
      "outputs": [
        {
          "output_type": "stream",
          "name": "stdout",
          "text": [
            "move disk 1 from rod 1 to rod 2\n",
            "move disk 2 from rod 1 to rod 3\n",
            "move disk 1 from rod 2 to rod 3\n",
            "Output: 3\n",
            "move disk 1 from rod 1 to rod 3\n",
            "move disk 2 from rod 1 to rod 2\n",
            "move disk 1 from rod 3 to rod 2\n",
            "move disk 3 from rod 1 to rod 3\n",
            "move disk 1 from rod 2 to rod 1\n",
            "move disk 2 from rod 2 to rod 3\n",
            "move disk 1 from rod 1 to rod 3\n",
            "Output : 7\n"
          ]
        }
      ]
    },
    {
      "cell_type": "markdown",
      "source": [
        "### QUESTION-7"
      ],
      "metadata": {
        "id": "U7S8WBsRSSvb"
      }
    },
    {
      "cell_type": "code",
      "source": [
        "str1 = \"cd\"\n",
        "str2 = \"abb\"\n",
        "\n",
        "def permutations(str, j, k):\n",
        "    if len(k) == 0:\n",
        "        print(j)\n",
        "    else:\n",
        "        for i in range(len(k)):\n",
        "            new_j = j + k[i]\n",
        "            new_k = k[:i] + k[i+1:]\n",
        "            permutations(str, new_j, new_k)\n",
        "\n",
        "print(f\"Output 1: \")\n",
        "permutations(str1, \"\", str1)\n",
        "\n",
        "print(f\"Output 2: \")\n",
        "permutations(str2, \"\", str2)"
      ],
      "metadata": {
        "colab": {
          "base_uri": "https://localhost:8080/"
        },
        "id": "qIX0yWBDMudJ",
        "outputId": "182b7854-c009-42a1-d53a-5dea2e5fffec"
      },
      "execution_count": 42,
      "outputs": [
        {
          "output_type": "stream",
          "name": "stdout",
          "text": [
            "Output 1: \n",
            "cd\n",
            "dc\n",
            "Output 2: \n",
            "abb\n",
            "abb\n",
            "bab\n",
            "bba\n",
            "bab\n",
            "bba\n"
          ]
        }
      ]
    },
    {
      "cell_type": "markdown",
      "source": [
        "### QUESTION-8"
      ],
      "metadata": {
        "id": "Cc3CmaqlSVAd"
      }
    },
    {
      "cell_type": "code",
      "source": [
        "str1 = \"abc de\"\n",
        "str2 = \"geeksforgeeks portal\"\n",
        "\n",
        "def consonants(str):\n",
        "    count = 0\n",
        "    vowels = 'aeiou'\n",
        "\n",
        "    for ch in str.lower():\n",
        "        if ch.isalpha() and ch not in vowels:\n",
        "            count += 1\n",
        "\n",
        "    return count\n",
        "\n",
        "print(f\"Output 1: {consonants(str1)}\")\n",
        "\n",
        "print(f\"Output 2: {consonants(str2)}\")"
      ],
      "metadata": {
        "colab": {
          "base_uri": "https://localhost:8080/"
        },
        "id": "XtwRIoiLOK81",
        "outputId": "ac356af3-5494-4d8c-cef2-3258802a5cb6"
      },
      "execution_count": 43,
      "outputs": [
        {
          "output_type": "stream",
          "name": "stdout",
          "text": [
            "Output 1: 3\n",
            "Output 2: 12\n"
          ]
        }
      ]
    },
    {
      "cell_type": "code",
      "source": [],
      "metadata": {
        "id": "JM74o4sCR_rs"
      },
      "execution_count": null,
      "outputs": []
    }
  ]
}